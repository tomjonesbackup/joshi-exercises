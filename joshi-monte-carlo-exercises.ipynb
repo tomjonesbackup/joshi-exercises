{
 "cells": [
  {
   "cell_type": "code",
   "execution_count": 1,
   "metadata": {
    "collapsed": false
   },
   "outputs": [],
   "source": [
    "import matplotlib.pyplot as plt\n",
    "from mpl_toolkits.mplot3d import Axes3D\n",
    "from matplotlib import cm\n",
    "from matplotlib.ticker import LinearLocator, FormatStrFormatter\n",
    "import numpy as np\n",
    "import scipy as sp\n",
    "import scipy.stats as stats\n",
    "%matplotlib inline"
   ]
  },
  {
   "cell_type": "code",
   "execution_count": 2,
   "metadata": {
    "collapsed": true
   },
   "outputs": [],
   "source": [
    "# pricing parameters\n",
    "\n",
    "# economics\n",
    "k = 100.0\n",
    "t= 4.\n",
    "\n",
    "# market data\n",
    "vol = 0.2\n",
    "r=0.05\n",
    "s_0=110.0"
   ]
  },
  {
   "cell_type": "code",
   "execution_count": 3,
   "metadata": {
    "collapsed": false
   },
   "outputs": [],
   "source": [
    "# black scholes analytic solutions\n",
    "\n",
    "def d1(s, k, r, vol, t):\n",
    "    return (sp.log(s/k)+(r+(0.5*vol*vol))*t)/(vol*sp.sqrt(t))\n",
    "def d2(s, k, r, vol, t):\n",
    "    return (sp.log(s/k)+(r-(0.5*vol*vol))*t)/(vol*sp.sqrt(t))\n",
    "def bs_call(s, k, r, vol, t):\n",
    "    return s*stats.norm.cdf(d1(s, k, r, vol, t)) - k*sp.exp(-1.*r*t)*stats.norm.cdf(d2(s, k, r, vol, t))\n",
    "def bs_put(s, k, r, vol, t):\n",
    "    return -1.*s*stats.norm.cdf(-1.*d1(s, k, r, vol, t)) + k*sp.exp(-1.*r*t)*stats.norm.cdf(-1.*d2(s, k, r, vol, t))\n",
    "def bs_digital_call(s, k, r, vol, t):\n",
    "    return sp.exp(-1.*r*t)*stats.norm.cdf(d2(s, k, r, vol, t))\n",
    "def bs_digital_put(s, k, r, vol, t):\n",
    "    return sp.exp(-1.*r*t)*(1.-stats.norm.cdf(d2(s, k, r, vol, t)))\n",
    "def zcb(r ,t):\n",
    "    return sp.exp(-1.*r*t)"
   ]
  },
  {
   "cell_type": "code",
   "execution_count": 4,
   "metadata": {
    "collapsed": false
   },
   "outputs": [
    {
     "data": {
      "image/png": "[encoded data removed]",
      "text/plain": [
       "<matplotlib.figure.Figure at 0x7fcf7c352410>"
      ]
     },
     "metadata": {},
     "output_type": "display_data"
    }
   ],
   "source": [
    "maturities = np.arange(0., 50., 0.1)\n",
    "zcb_prices = zcb(r, maturities)\n",
    "line, = plt.plot(maturities, zcb_prices, 'r-')\n",
    "#plt.xkcd(True)\n",
    "plt.setp(line, color='r', linewidth=5.0)\n",
    "plt.xlabel('maturity (years)')\n",
    "plt.ylabel('$1 zcb dollar price')\n",
    "plt.title('1 dollar ZCB price')\n",
    "plt.grid(True)\n",
    "plt.show()"
   ]
  },
  {
   "cell_type": "code",
   "execution_count": 5,
   "metadata": {
    "collapsed": false
   },
   "outputs": [
    {
     "data": {
      "text/plain": [
       "0.24168395476141724"
      ]
     },
     "execution_count": 5,
     "metadata": {},
     "output_type": "execute_result"
    }
   ],
   "source": [
    "# bs call price test\n",
    "\n",
    "bs_option_price = bs_digital_put(s_0, k, r, vol, t)\n",
    "bs_option_price"
   ]
  },
  {
   "cell_type": "code",
   "execution_count": 6,
   "metadata": {
    "collapsed": false
   },
   "outputs": [],
   "source": [
    "# monte carlo\n",
    "\n",
    "def create_random_generator():\n",
    "    return lambda num_of_paths : np.random.normal(0.0, 1.0, num_of_paths)\n",
    "\n",
    "def create_vanilla_option(payoff, expiry):\n",
    "    return (payoff, expiry)\n",
    "\n",
    "def create_call_payoff(k):\n",
    "    return lambda s : np.maximum(s-k, 0.)\n",
    "\n",
    "def create_put_payoff(k):\n",
    "    return lambda s : np.maximum(k-s, 0.)\n",
    "\n",
    "def create_call_digital_payoff(k):\n",
    "    return lambda s : 1. * (s > k)\n",
    "\n",
    "def create_put_digital_payoff(k):\n",
    "    return lambda s : 1. * (s < k)\n",
    "\n",
    "def random_stock_paths(s_0, r, t, vol, rnd_generator, num_of_paths):\n",
    "    return s_0*sp.exp(r*t-0.5*vol*vol*t+vol*sp.sqrt(t)*rnd_generator(num_of_paths))\n",
    "\n",
    "def monte_carlo_price(option, rnd_generator, s_0, r, vol, num_of_paths):\n",
    "    expiry = option[1]\n",
    "    payoff = option[0]\n",
    "    payoffs = payoff(random_stock_paths(s_0, r, expiry, vol, rnd_generator, num_of_paths))\n",
    "    std_error = np.std(sp.exp(-1.*r*expiry)*payoffs)/np.sqrt(num_of_paths)\n",
    "    price = sp.exp(-1.*r*expiry)*np.mean(payoffs)\n",
    "    return price, std_error\n",
    "\n",
    "def mc_price_option(s_0, r, expiry, vol, k, num_of_paths):\n",
    "    option = create_vanilla_option(create_put_digital_payoff(k), expiry)\n",
    "    return monte_carlo_price(option, create_random_generator(), s_0, r, vol, num_of_paths)\n"
   ]
  },
  {
   "cell_type": "code",
   "execution_count": 10,
   "metadata": {
    "collapsed": false
   },
   "outputs": [
    {
     "data": {
      "text/plain": [
       "[(1.0, array([ 0.]))]"
      ]
     },
     "execution_count": 10,
     "metadata": {},
     "output_type": "execute_result"
    }
   ],
   "source": [
    "# monte carlo 2 (path dependent exotic pricer)\n",
    "\n",
    "class asian_product:\n",
    "    def __init__(self, payoff, observation_times, expiry):\n",
    "        self.payoff = payoff\n",
    "        self.observation_times = observation_times\n",
    "        self.expiry = expiry\n",
    "    def get_observation_times():\n",
    "        return observation_times\n",
    "    def get_cashflow_times():\n",
    "        return [(expiry)]\n",
    "    def generate_cashflows(self, spots):\n",
    "        return [(self.expiry, np.sum(self.payoff.calc(spots))/12.)]\n",
    "\n",
    "class vanilla_product:\n",
    "    def __init__(self, payoff, expiry):\n",
    "        self.payoff = payoff\n",
    "        self.expiry = expiry\n",
    "    def get_observation_times():\n",
    "        return [(expiry)]\n",
    "    def get_cashflow_times():\n",
    "        return [(expiry)]\n",
    "    def generate_cashflows(self, spots):\n",
    "        return [(self.expiry, self.payoff.calc(spots))]\n",
    "        \n",
    "class call_payoff:\n",
    "    def __init__(self, k):\n",
    "        self.k = k\n",
    "    def calc(self, spots):\n",
    "        return np.maximum(spots-self.k, 0.)\n",
    "    \n",
    "def create_random_generator(dimensions):\n",
    "    return lambda : np.random.normal(0.0, 1.0, dimensions)\n",
    "    \n",
    "def monte_carlo_price(product, s0, r, vol, num_of_paths):\n",
    "    # pre-calculate discount factors for cashflows\n",
    "    dfs = [zcb(r, ct) for ct in product.get_cashflow_times()]\n",
    "    \n",
    "    \n",
    "    dims = product.observation_times.size\n",
    "    \n",
    "    payoffs = payoff(random_stock_paths(s_0, r, expiry, vol, rnd_generator, num_of_paths))\n",
    "    std_error = np.std(sp.exp(-1.*r*expiry)*payoffs)/np.sqrt(num_of_paths)\n",
    "    price = sp.exp(-1.*r*expiry)*np.mean(payoffs)\n",
    "    return price, std_error\n",
    "\n",
    "asian_obs_times = [i/12. for i in range(1,13)]\n",
    "\n",
    "    \n",
    "asian_call_option = asian_product(call_payoff(100.0), asian_obs_times, 1.)\n",
    "vanilla_call_option = vanilla_product(call_payoff(100.0), 1.)\n",
    "\n",
    "observed_spots = np.array([90., 101., 110, 85., 100.])\n",
    "\n",
    "asian_call_option.generate_cashflows(observed_spots)\n",
    "vanilla_call_option.generate_cashflows(np.array([100.]))\n",
    "\n",
    "\n",
    "\n"
   ]
  },
  {
   "cell_type": "code",
   "execution_count": null,
   "metadata": {
    "collapsed": false
   },
   "outputs": [],
   "source": []
  },
  {
   "cell_type": "code",
   "execution_count": null,
   "metadata": {
    "collapsed": false
   },
   "outputs": [],
   "source": [
    "mc_price_option(s_0, r, t, vol, k, 100000)"
   ]
  },
  {
   "cell_type": "code",
   "execution_count": null,
   "metadata": {
    "collapsed": false
   },
   "outputs": [],
   "source": [
    "# 3d plot of BS call price over time and spot\n",
    "\n",
    "fig = plt.figure()\n",
    "ax = fig.gca(projection='3d')\n",
    "\n",
    "# Make data.\n",
    "ss = np.arange(1., 201., 1.)\n",
    "tt = np.arange(10.1, 0.1, -0.1)\n",
    "ss, tt = np.meshgrid(ss, tt)\n",
    "bs_price = bs_call(ss, k, r, vol, tt)\n",
    "payoff_fn = create_call_payoff(k)\n",
    "#mc_price = monte_carlo_price(ss, r, tt, vol, k, payoff_fn, 1000)\n",
    "\n",
    "# Plot the surface.\n",
    "surf = ax.plot_surface(-ss, -tt, bs_price, cmap=cm.autumn,\n",
    "                       linewidth=0, antialiased=True)\n",
    "#surf2 = ax.plot_surface(-ss, -tt, mc_price, cmap=cm.coolwarm,\n",
    "#                      linewidth=0, antialiased=True)\n",
    "\n",
    "# Customize the z axis.\n",
    "ax.set_zlim(0.0, 50.0)\n",
    "\n",
    "plt.show()"
   ]
  },
  {
   "cell_type": "code",
   "execution_count": null,
   "metadata": {
    "collapsed": false
   },
   "outputs": [],
   "source": [
    "spots = np.arange(1., 201., 0.1)\n",
    "bs_price = bs_digital_put(spots, k, r, vol, t)\n",
    "mc_price = [mc_price_option(spot, r, t, vol, k, 10000)[0] for spot in spots]\n",
    "plt.scatter(spots, mc_price, color=['green'])\n",
    "line, = plt.plot(spots, bs_price, 'r-')\n",
    "plt.setp(line, color='r', linewidth=5.0)\n",
    "\n",
    "plt.xlabel('s')\n",
    "plt.ylabel('c')\n",
    "plt.title('Black Scholes option price')\n",
    "plt.grid(True)\n",
    "plt.show()"
   ]
  },
  {
   "cell_type": "code",
   "execution_count": null,
   "metadata": {
    "collapsed": false
   },
   "outputs": [],
   "source": [
    "# BS vs MC price error as a histogram\n",
    "\n",
    "price_error = bs_price-mc_price\n",
    "x=plt.hist(price_error, bins=100,normed=1,histtype='step')"
   ]
  },
  {
   "cell_type": "code",
   "execution_count": null,
   "metadata": {
    "collapsed": false
   },
   "outputs": [],
   "source": [
    "# Monte Carlo price statistics\n",
    "numbers_of_paths = [2**x for x in np.arange(20)]\n",
    "\n",
    "mc_std_error = [mc_price_option(s_0, r, t, vol, k, paths)[1] for paths in numbers_of_paths]\n",
    "\n",
    "# show standard dev of MC prices across multiple trials decreasing with number of trials\n",
    "number_of_trials = 100\n",
    "\n",
    "mc_prices = [[mc_price_option(s_0, r, t, vol, k, number_of_paths)[0] for p in np.arange(number_of_trials)] \\\n",
    "             for number_of_paths in numbers_of_paths]\n",
    "\n",
    "mc_price_std_dev = [np.std(prices) for prices in mc_prices]\n",
    "mc_price_vs_bs = [np.mean([np.abs(p-bs_option_price) for p in prices]) for prices in mc_prices]\n",
    "\n",
    "plt.subplot()\n",
    "plt.scatter(numbers_of_paths, mc_std_error)\n",
    "plt.xlabel('number of paths')\n",
    "plt.ylabel('mc_std_error')\n",
    "plt.title('Monte Carlo price std error against number of paths')\n",
    "plt.grid(True)\n",
    "plt.xscale('log')\n",
    "plt.show()\n",
    "\n",
    "plt.subplot()\n",
    "plt.scatter(numbers_of_paths, mc_price_std_dev)\n",
    "plt.xlabel('number of paths')\n",
    "plt.ylabel('mc price std dev')\n",
    "plt.title('Monte Carlo price std dev against number of paths')\n",
    "plt.grid(True)\n",
    "plt.xscale('log')\n",
    "plt.show()\n",
    "\n",
    "plt.subplot()\n",
    "plt.scatter(numbers_of_paths, mc_price_vs_bs)\n",
    "plt.xlabel('number of paths')\n",
    "plt.ylabel('mean Monte Carlo vs. BS price difference')\n",
    "plt.title('Monte Carlo vs. BS price error against number of paths')\n",
    "plt.grid(True)\n",
    "plt.xscale('log')\n",
    "plt.show()\n",
    "plt.show()"
   ]
  },
  {
   "cell_type": "code",
   "execution_count": null,
   "metadata": {
    "collapsed": true
   },
   "outputs": [],
   "source": [
    "# PDE solver\n",
    "number_of_time_steps = 100\n",
    "number_of_spot_steps = 50\n"
   ]
  },
  {
   "cell_type": "code",
   "execution_count": null,
   "metadata": {
    "collapsed": true
   },
   "outputs": [],
   "source": []
  }
 ],
 "metadata": {
  "kernelspec": {
   "display_name": "Python 2",
   "language": "python",
   "name": "python2"
  },
  "language_info": {
   "codemirror_mode": {
    "name": "ipython",
    "version": 2
   },
   "file_extension": ".py",
   "mimetype": "text/x-python",
   "name": "python",
   "nbconvert_exporter": "python",
   "pygments_lexer": "ipython2",
   "version": "2.7.13"
  }
 },
 "nbformat": 4,
 "nbformat_minor": 2
}
