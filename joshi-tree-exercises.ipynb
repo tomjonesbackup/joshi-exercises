{
 "cells": [
  {
   "cell_type": "code",
   "execution_count": 1,
   "metadata": {
    "collapsed": true
   },
   "outputs": [],
   "source": [
    "import matplotlib.pyplot as plt\n",
    "from mpl_toolkits.mplot3d import Axes3D\n",
    "from matplotlib import cm\n",
    "from matplotlib.ticker import LinearLocator, FormatStrFormatter\n",
    "import numpy as np\n",
    "import scipy as sp\n",
    "import scipy.stats as stats\n",
    "%matplotlib inline"
   ]
  },
  {
   "cell_type": "code",
   "execution_count": 2,
   "metadata": {
    "collapsed": true
   },
   "outputs": [],
   "source": [
    "# pricing parameters\n",
    "\n",
    "# economics\n",
    "K = 100.0\n",
    "T = 1.\n",
    "\n",
    "# market data\n",
    "Vol = 0.50\n",
    "R = 0.05\n",
    "S0 = 90.0"
   ]
  },
  {
   "cell_type": "code",
   "execution_count": 3,
   "metadata": {
    "collapsed": true
   },
   "outputs": [],
   "source": [
    "# black scholes analytic solutions\n",
    "\n",
    "def d1(s, k, r, vol, t):\n",
    "    return (sp.log(s/k)+(r+(0.5*vol*vol))*t)/(vol*sp.sqrt(t))\n",
    "def d2(s, k, r, vol, t):\n",
    "    return (sp.log(s/k)+(r-(0.5*vol*vol))*t)/(vol*sp.sqrt(t))\n",
    "def bs_call(s, k, r, vol, t):\n",
    "    return s*stats.norm.cdf(d1(s, k, r, vol, t)) - k*sp.exp(-1.*r*t)*stats.norm.cdf(d2(s, k, r, vol, t))\n",
    "def bs_put(s, k, r, vol, t):\n",
    "    return -1.*s*stats.norm.cdf(-1.*d1(s, k, r, vol, t)) + k*sp.exp(-1.*r*t)*stats.norm.cdf(-1.*d2(s, k, r, vol, t))\n",
    "def bs_digital_call(s, k, r, vol, t):\n",
    "    return sp.exp(-1.*r*t)*stats.norm.cdf(d2(s, k, r, vol, t))\n",
    "def bs_digital_put(s, k, r, vol, t):\n",
    "    return sp.exp(-1.*r*t)*(1.-stats.norm.cdf(d2(s, k, r, vol, t)))\n",
    "def zcb(r ,t):\n",
    "    return sp.exp(-1.*r*t)"
   ]
  },
  {
   "cell_type": "code",
   "execution_count": 4,
   "metadata": {
    "collapsed": true
   },
   "outputs": [],
   "source": [
    "# payoff implementations\n",
    "\n",
    "class call_payoff:\n",
    "    def __init__(self, k):\n",
    "        self.k = k\n",
    "    def calc(self, spots):\n",
    "        return np.maximum(spots-self.k, 0.)\n",
    "\n",
    "class digital_call_payoff:\n",
    "    def __init__(self, k):\n",
    "        self.k = k\n",
    "    def calc(self, spots):\n",
    "        return 1. * (spots > self.k)"
   ]
  },
  {
   "cell_type": "code",
   "execution_count": 5,
   "metadata": {
    "collapsed": false
   },
   "outputs": [],
   "source": [
    "# tree product implementations\n",
    "\n",
    "class european_tree_product:\n",
    "    def __init__(self, final_time, payoff):\n",
    "        self.final_time = final_time\n",
    "        self.payoff = payoff\n",
    "    def final_time(self):\n",
    "        return self.final_time\n",
    "    def final_payoff(self, spot):\n",
    "        return self.payoff.calc(spot)\n",
    "    def pre_final_value(self, spot, time, discounted_future_value):\n",
    "        return discounted_future_value\n",
    "    \n",
    "class american_tree_product:\n",
    "    def __init__(self, final_time, payoff):\n",
    "        self.final_time = final_time\n",
    "        self.payoff = payoff\n",
    "    def final_time(self):\n",
    "        return self.final_time\n",
    "    def final_payoff(self, spot):\n",
    "        return payoff.calc(spot)\n",
    "    def pre_final_value(self, spot, time, discounted_future_value):\n",
    "        return max(payoff.calc(spot), discounted_future_value)\n",
    "    "
   ]
  },
  {
   "cell_type": "code",
   "execution_count": 12,
   "metadata": {
    "collapsed": true
   },
   "outputs": [],
   "source": [
    "# binomial tree\n",
    "\n",
    "class simple_binomial_tree:\n",
    "    def __init__(self, s0, r, vol, num_of_steps, time):\n",
    "        self.spot_tree = []\n",
    "        log_spot = sp.log(s0)\n",
    "        for i in range(num_of_steps):\n",
    "            t = (i*time)/num_of_steps\n",
    "            moved_log_spot = log_spot + (r*t)\n",
    "            moved_log_spot -= 0.5*vol*vol*t\n",
    "            sd = vol*sp.sqrt(time/num_of_steps)\n",
    "            self.spot_tree.append([sp.exp(moved_log_spot+(s*sd)) for s in range(-i, i, 2)])\n",
    "        self.df = sp.exp(-1.*r*time/num_of_steps)\n",
    "        "
   ]
  },
  {
   "cell_type": "code",
   "execution_count": 13,
   "metadata": {
    "collapsed": false
   },
   "outputs": [],
   "source": [
    "sbt = simple_binomial_tree(S0, R, Vol, 10, 1.0)"
   ]
  },
  {
   "cell_type": "code",
   "execution_count": null,
   "metadata": {
    "collapsed": true
   },
   "outputs": [],
   "source": []
  }
 ],
 "metadata": {
  "kernelspec": {
   "display_name": "Python 2",
   "language": "python",
   "name": "python2"
  },
  "language_info": {
   "codemirror_mode": {
    "name": "ipython",
    "version": 2
   },
   "file_extension": ".py",
   "mimetype": "text/x-python",
   "name": "python",
   "nbconvert_exporter": "python",
   "pygments_lexer": "ipython2",
   "version": "2.7.13"
  }
 },
 "nbformat": 4,
 "nbformat_minor": 2
}
