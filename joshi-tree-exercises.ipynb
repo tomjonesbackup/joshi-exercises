{
 "cells": [
  {
   "cell_type": "code",
   "execution_count": 1,
   "metadata": {
    "collapsed": true
   },
   "outputs": [],
   "source": [
    "import matplotlib.pyplot as plt\n",
    "from mpl_toolkits.mplot3d import Axes3D\n",
    "from matplotlib import cm\n",
    "from matplotlib.ticker import LinearLocator, FormatStrFormatter\n",
    "import numpy as np\n",
    "import scipy as sp\n",
    "import scipy.stats as stats\n",
    "%matplotlib inline"
   ]
  },
  {
   "cell_type": "code",
   "execution_count": 25,
   "metadata": {
    "collapsed": true
   },
   "outputs": [],
   "source": [
    "# pricing parameters\n",
    "\n",
    "# economics\n",
    "K = 100.0\n",
    "T = 1.\n",
    "\n",
    "# market data\n",
    "Vol = 0.50\n",
    "R = 0.05\n",
    "S0 = 75.0"
   ]
  },
  {
   "cell_type": "code",
   "execution_count": 26,
   "metadata": {
    "collapsed": true
   },
   "outputs": [],
   "source": [
    "# black scholes analytic solutions\n",
    "\n",
    "def d1(s, k, r, vol, t):\n",
    "    return (sp.log(s/k)+(r+(0.5*vol*vol))*t)/(vol*sp.sqrt(t))\n",
    "def d2(s, k, r, vol, t):\n",
    "    return (sp.log(s/k)+(r-(0.5*vol*vol))*t)/(vol*sp.sqrt(t))\n",
    "def bs_call(s, k, r, vol, t):\n",
    "    return s*stats.norm.cdf(d1(s, k, r, vol, t)) - k*sp.exp(-1.*r*t)*stats.norm.cdf(d2(s, k, r, vol, t))\n",
    "def bs_put(s, k, r, vol, t):\n",
    "    return -1.*s*stats.norm.cdf(-1.*d1(s, k, r, vol, t)) + k*sp.exp(-1.*r*t)*stats.norm.cdf(-1.*d2(s, k, r, vol, t))\n",
    "def bs_digital_call(s, k, r, vol, t):\n",
    "    return sp.exp(-1.*r*t)*stats.norm.cdf(d2(s, k, r, vol, t))\n",
    "def bs_digital_put(s, k, r, vol, t):\n",
    "    return sp.exp(-1.*r*t)*(1.-stats.norm.cdf(d2(s, k, r, vol, t)))\n",
    "def zcb(r ,t):\n",
    "    return sp.exp(-1.*r*t)"
   ]
  },
  {
   "cell_type": "code",
   "execution_count": 27,
   "metadata": {
    "collapsed": true
   },
   "outputs": [],
   "source": [
    "# payoff implementations\n",
    "\n",
    "class call_payoff:\n",
    "    def __init__(self, k):\n",
    "        self.k = k\n",
    "    def calc(self, spots):\n",
    "        return np.maximum(spots-self.k, 0.)\n",
    "\n",
    "class digital_call_payoff:\n",
    "    def __init__(self, k):\n",
    "        self.k = k\n",
    "    def calc(self, spots):\n",
    "        return 1. * (spots > self.k)"
   ]
  },
  {
   "cell_type": "code",
   "execution_count": 28,
   "metadata": {
    "collapsed": false
   },
   "outputs": [],
   "source": [
    "# tree product implementations\n",
    "\n",
    "class european_tree_product:\n",
    "    def __init__(self, final_time, payoff):\n",
    "        self.final_time = final_time\n",
    "        self.payoff = payoff\n",
    "    def final_time(self):\n",
    "        return self.final_time\n",
    "    def final_payoff(self, spot):\n",
    "        return self.payoff.calc(spot)\n",
    "    def pre_final_value(self, spot, discounted_future_value):\n",
    "        return discounted_future_value\n",
    "    \n",
    "class american_tree_product:\n",
    "    def __init__(self, final_time, payoff):\n",
    "        self.final_time = final_time\n",
    "        self.payoff = payoff\n",
    "    def final_time(self):\n",
    "        return self.final_time\n",
    "    def final_payoff(self, spot):\n",
    "        return self.payoff.calc(spot)\n",
    "    def pre_final_value(self, spot, discounted_future_value):\n",
    "        return max(self.payoff.calc(spot), discounted_future_value)"
   ]
  },
  {
   "cell_type": "code",
   "execution_count": 29,
   "metadata": {
    "collapsed": true
   },
   "outputs": [],
   "source": [
    "# binomial tree\n",
    "\n",
    "class simple_binomial_tree:\n",
    "    \n",
    "    def __init__(self, s0, r, vol, num_of_steps, time):\n",
    "        self.spot_tree = []\n",
    "        self.num_of_steps = num_of_steps\n",
    "        log_spot = sp.log(s0)\n",
    "        dt = time/num_of_steps\n",
    "        sd = vol*sp.sqrt(dt)\n",
    "        for step in range(num_of_steps+1):\n",
    "            t = step*dt\n",
    "            moved_log_spot = log_spot+(r*t)\n",
    "            moved_log_spot -= 0.5*vol*vol*t\n",
    "            self.spot_tree.append([sp.exp(moved_log_spot+(w*sd)) for w in range(-step, step+1, 2)])\n",
    "        self.df = zcb(r, time/num_of_steps)\n",
    "        \n",
    "    def price(self, product):\n",
    "        option_tree = [None]*(self.num_of_steps+1)\n",
    "        option_tree[self.num_of_steps] = [product.final_payoff(s) for s in self.spot_tree[self.num_of_steps]]\n",
    "        for step in range(self.num_of_steps-1, -1, -1):\n",
    "            option_tree[step] = [None]*(step+1)\n",
    "            for i in range(step+1):\n",
    "                future_discounted_value = 0.5*self.df*(option_tree[step+1][i]+option_tree[step+1][i+1])\n",
    "                option_tree[step][i] = product.pre_final_value(self.spot_tree[step][i], future_discounted_value)\n",
    "        return option_tree[0][0]"
   ]
  },
  {
   "cell_type": "code",
   "execution_count": 31,
   "metadata": {
    "collapsed": false
   },
   "outputs": [
    {
     "name": "stdout",
     "output_type": "stream",
     "text": [
      "Theoretical BS price = 8.54395598658\n",
      "Euro tree price = 8.54602589406\n",
      "American tree price = 8.54602589406\n"
     ]
    }
   ],
   "source": [
    "# Test pricing\n",
    "\n",
    "cp = call_payoff(K)\n",
    "etp = european_tree_product(T, cp)\n",
    "atp = american_tree_product(T, cp)\n",
    "sbt = simple_binomial_tree(S0, R, Vol, 1000, T)\n",
    "euro_tree_price = sbt.price(etp)\n",
    "american_tree_price = sbt.price(atp)\n",
    "bs_option_price = bs_call(S0, K, R, Vol, T)\n",
    "print \"Theoretical BS price = {}\".format(bs_option_price)\n",
    "print \"Euro tree price = {}\".format(euro_tree_price)\n",
    "print \"American tree price = {}\".format(american_tree_price)\n"
   ]
  }
 ],
 "metadata": {
  "kernelspec": {
   "display_name": "Python 2",
   "language": "python",
   "name": "python2"
  },
  "language_info": {
   "codemirror_mode": {
    "name": "ipython",
    "version": 2
   },
   "file_extension": ".py",
   "mimetype": "text/x-python",
   "name": "python",
   "nbconvert_exporter": "python",
   "pygments_lexer": "ipython2",
   "version": "2.7.13"
  }
 },
 "nbformat": 4,
 "nbformat_minor": 2
}
